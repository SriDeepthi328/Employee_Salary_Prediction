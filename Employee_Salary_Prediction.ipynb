{
 "cells": [
  {
   "cell_type": "code",
   "execution_count": 2,
   "id": "31e045d6-0a01-48ce-a238-a2128e4dfaa2",
   "metadata": {},
   "outputs": [
    {
     "name": "stdout",
     "output_type": "stream",
     "text": [
      "✅ Model trained and saved with accuracy: 0.8467661691542289\n"
     ]
    }
   ],
   "source": [
    "import pandas as pd\n",
    "import numpy as np\n",
    "from sklearn.model_selection import train_test_split\n",
    "from sklearn.ensemble import RandomForestClassifier\n",
    "from sklearn.preprocessing import LabelEncoder\n",
    "import joblib\n",
    "\n",
    "# Load dataset\n",
    "df = pd.read_excel(r\"C:\\Users\\Mr\\Desktop\\adult 3.xlsx\")\n",
    "\n",
    "# Drop unwanted columns\n",
    "df.drop(columns=['fnlwgt'], inplace=True)\n",
    "\n",
    "# Handle missing values\n",
    "df.replace('?', np.nan, inplace=True)\n",
    "df.dropna(inplace=True)\n",
    "\n",
    "# Encode categorical features\n",
    "label_encoders = {}\n",
    "categorical_cols = df.select_dtypes(include='object').columns.tolist()\n",
    "categorical_cols.remove('income')\n",
    "\n",
    "for col in categorical_cols:\n",
    "    le = LabelEncoder()\n",
    "    df[col] = le.fit_transform(df[col])\n",
    "    label_encoders[col] = le\n",
    "\n",
    "# Encode target\n",
    "target_le = LabelEncoder()\n",
    "df['income'] = target_le.fit_transform(df['income'])  # 0: <=50K, 1: >50K\n",
    "\n",
    "# Train-test split\n",
    "X = df.drop(columns='income')\n",
    "y = df['income']\n",
    "X_train, X_test, y_train, y_test = train_test_split(X, y, test_size=0.2, random_state=42)\n",
    "\n",
    "# Train model\n",
    "model = RandomForestClassifier(random_state=42)\n",
    "model.fit(X_train, y_train)\n",
    "\n",
    "# Save model & encoders\n",
    "joblib.dump(model, \"salary_model.pkl\")\n",
    "joblib.dump(label_encoders, \"encoders.pkl\")\n",
    "joblib.dump(target_le, \"target_encoder.pkl\")\n",
    "\n",
    "print(\"✅ Model trained and saved with accuracy:\", model.score(X_test, y_test))\n"
   ]
  },
  {
   "cell_type": "code",
   "execution_count": 3,
   "id": "06abdba0-b3da-4e39-9581-448b4d7eb2dd",
   "metadata": {},
   "outputs": [
    {
     "name": "stdout",
     "output_type": "stream",
     "text": [
      "* Running on local URL:  http://127.0.0.1:7860\n",
      "* Running on public URL: https://522902798d31f34b3a.gradio.live\n",
      "\n",
      "This share link expires in 1 week. For free permanent hosting and GPU upgrades, run `gradio deploy` from the terminal in the working directory to deploy to Hugging Face Spaces (https://huggingface.co/spaces)\n"
     ]
    },
    {
     "data": {
      "text/html": [
       "<div><iframe src=\"https://522902798d31f34b3a.gradio.live\" width=\"100%\" height=\"500\" allow=\"autoplay; camera; microphone; clipboard-read; clipboard-write;\" frameborder=\"0\" allowfullscreen></iframe></div>"
      ],
      "text/plain": [
       "<IPython.core.display.HTML object>"
      ]
     },
     "metadata": {},
     "output_type": "display_data"
    },
    {
     "data": {
      "text/plain": []
     },
     "execution_count": 3,
     "metadata": {},
     "output_type": "execute_result"
    }
   ],
   "source": [
    "import gradio as gr\n",
    "import pandas as pd\n",
    "import joblib\n",
    "import numpy as np\n",
    "\n",
    "# Load trained model and encoders\n",
    "model = joblib.load(\"salary_model.pkl\")\n",
    "label_encoders = joblib.load(\"encoders.pkl\")\n",
    "target_encoder = joblib.load(\"target_encoder.pkl\")\n",
    "\n",
    "# Input features\n",
    "input_features = [\n",
    "    \"age\", \"workclass\", \"education\", \"educational-num\", \"marital-status\",\n",
    "    \"occupation\", \"relationship\", \"race\", \"gender\",\n",
    "    \"capital-gain\", \"capital-loss\", \"hours-per-week\", \"native-country\"\n",
    "]\n",
    "\n",
    "def predict_salary(age, workclass, education, edu_num, marital, occupation, relationship, race, gender, gain, loss, hours, country):\n",
    "    input_dict = {\n",
    "        \"age\": int(age),\n",
    "        \"workclass\": workclass,\n",
    "        \"education\": education,\n",
    "        \"educational-num\": int(edu_num),\n",
    "        \"marital-status\": marital,\n",
    "        \"occupation\": occupation,\n",
    "        \"relationship\": relationship,\n",
    "        \"race\": race,\n",
    "        \"gender\": gender,\n",
    "        \"capital-gain\": int(gain),\n",
    "        \"capital-loss\": int(loss),\n",
    "        \"hours-per-week\": int(hours),\n",
    "        \"native-country\": country\n",
    "    }\n",
    "\n",
    "    # Encode categorical inputs\n",
    "    for col in label_encoders:\n",
    "        le = label_encoders[col]\n",
    "        input_dict[col] = le.transform([input_dict[col]])[0]\n",
    "\n",
    "    # Create input DataFrame\n",
    "    input_df = pd.DataFrame([input_dict])\n",
    "    prediction = model.predict(input_df)[0]\n",
    "    income_label = target_encoder.inverse_transform([prediction])[0]\n",
    "\n",
    "    return f\"🧾 Predicted Income: {income_label}\"\n",
    "\n",
    "# Gradio interface\n",
    "iface = gr.Interface(\n",
    "    fn=predict_salary,\n",
    "    inputs=[\n",
    "        gr.Number(label=\"Age\"),\n",
    "        gr.Dropdown(choices=label_encoders['workclass'].classes_.tolist(), label=\"Workclass\"),\n",
    "        gr.Dropdown(choices=label_encoders['education'].classes_.tolist(), label=\"Education\"),\n",
    "        gr.Number(label=\"Educational Number\"),\n",
    "        gr.Dropdown(choices=label_encoders['marital-status'].classes_.tolist(), label=\"Marital Status\"),\n",
    "        gr.Dropdown(choices=label_encoders['occupation'].classes_.tolist(), label=\"Occupation\"),\n",
    "        gr.Dropdown(choices=label_encoders['relationship'].classes_.tolist(), label=\"Relationship\"),\n",
    "        gr.Dropdown(choices=label_encoders['race'].classes_.tolist(), label=\"Race\"),\n",
    "        gr.Dropdown(choices=label_encoders['gender'].classes_.tolist(), label=\"Gender\"),\n",
    "        gr.Number(label=\"Capital Gain\"),\n",
    "        gr.Number(label=\"Capital Loss\"),\n",
    "        gr.Number(label=\"Hours Per Week\"),\n",
    "        gr.Dropdown(choices=label_encoders['native-country'].classes_.tolist(), label=\"Native Country\")\n",
    "    ],\n",
    "    outputs=gr.Text(label=\"Prediction Result\"),\n",
    "    title=\"Employee Salary Predictor\",\n",
    "    description=\"Enter the employee details to predict if income is <=50K or >50K.\"\n",
    ")\n",
    "\n",
    "iface.launch(share=True)\n"
   ]
  },
  {
   "cell_type": "code",
   "execution_count": null,
   "id": "adafc43a-1a4e-4719-b138-4b52a67db825",
   "metadata": {},
   "outputs": [],
   "source": []
  }
 ],
 "metadata": {
  "kernelspec": {
   "display_name": "Python [conda env:base] *",
   "language": "python",
   "name": "conda-base-py"
  },
  "language_info": {
   "codemirror_mode": {
    "name": "ipython",
    "version": 3
   },
   "file_extension": ".py",
   "mimetype": "text/x-python",
   "name": "python",
   "nbconvert_exporter": "python",
   "pygments_lexer": "ipython3",
   "version": "3.12.7"
  }
 },
 "nbformat": 4,
 "nbformat_minor": 5
}
